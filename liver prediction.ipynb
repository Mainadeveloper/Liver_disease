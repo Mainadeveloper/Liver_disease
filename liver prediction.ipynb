{
 "cells": [
  {
   "cell_type": "code",
   "execution_count": 17,
   "id": "dfbde669-d282-49aa-9be1-bb5140f2a422",
   "metadata": {},
   "outputs": [],
   "source": [
    "import numpy as np\n",
    "import pandas as pd\n",
    "import pickle"
   ]
  },
  {
   "cell_type": "code",
   "execution_count": 18,
   "id": "cd9704d9-146e-4fd1-b34b-79ba0597d827",
   "metadata": {},
   "outputs": [],
   "source": [
    "# Load the trained model\n",
    "model = pickle.load(open(\"liver.pkl\", \"rb\"))"
   ]
  },
  {
   "cell_type": "code",
   "execution_count": 19,
   "id": "292391e3-b8a2-4e25-8fc8-8b6d8c1fdfeb",
   "metadata": {},
   "outputs": [],
   "source": [
    "# New example input\n",
    "X_new = [[\n",
    "    45,      # Age\n",
    "    1,       # Gender (1=Male, 0=Female)\n",
    "    1.2,     # Total_Bilirubin\n",
    "    0.4,     # Direct_Bilirubin\n",
    "    250,     # Alkaline_Phosphotase\n",
    "    30,      # Alamine_Aminotransferase\n",
    "    40,      # Aspartate_Aminotransferase\n",
    "    6.5,     # Total_Protiens\n",
    "    3.0,     # Albumin\n",
    "    0.9      # Albumin_and_Globulin_Ratio\n",
    "]]\n"
   ]
  },
  {
   "cell_type": "code",
   "execution_count": 20,
   "id": "e33838dd-1662-488e-b798-8d2e8c8f68aa",
   "metadata": {},
   "outputs": [
    {
     "name": "stderr",
     "output_type": "stream",
     "text": [
      "C:\\Users\\maina\\AppData\\Local\\Programs\\Python\\Python39\\lib\\site-packages\\sklearn\\base.py:493: UserWarning: X does not have valid feature names, but LogisticRegression was fitted with feature names\n",
      "  warnings.warn(\n"
     ]
    }
   ],
   "source": [
    "# Make prediction\n",
    "prediction = model.predict(X_new)\n"
   ]
  },
  {
   "cell_type": "code",
   "execution_count": 22,
   "id": "4a716124-8863-4fd6-9b2d-98675d27f198",
   "metadata": {},
   "outputs": [
    {
     "name": "stdout",
     "output_type": "stream",
     "text": [
      "Predicted class: [1]\n",
      "Predicted diagnosis: liver Disease\n"
     ]
    }
   ],
   "source": [
    "# Show numeric prediction\n",
    "print(\"Predicted class:\", prediction)\n",
    "\n",
    "# Optional: map to label\n",
    "label_map = {0: \"No Disease\", 1: \"liver Disease\"}\n",
    "print(\"Predicted diagnosis:\", label_map[prediction[0]])\n"
   ]
  },
  {
   "cell_type": "code",
   "execution_count": null,
   "id": "defe3788-ccca-4b30-8c3a-5d5dd14c3588",
   "metadata": {},
   "outputs": [],
   "source": []
  }
 ],
 "metadata": {
  "kernelspec": {
   "display_name": "Python 3 (ipykernel)",
   "language": "python",
   "name": "python3"
  },
  "language_info": {
   "codemirror_mode": {
    "name": "ipython",
    "version": 3
   },
   "file_extension": ".py",
   "mimetype": "text/x-python",
   "name": "python",
   "nbconvert_exporter": "python",
   "pygments_lexer": "ipython3",
   "version": "3.9.13"
  }
 },
 "nbformat": 4,
 "nbformat_minor": 5
}
